{
 "cells": [
  {
   "cell_type": "code",
   "execution_count": 35,
   "id": "9de13399",
   "metadata": {},
   "outputs": [],
   "source": [
    "# Import some useful functions\n",
    "from numpy import *\n",
    "from numpy.random import *\n",
    "from datascience import *\n",
    "\n",
    "# Customize look of graphics\n",
    "import matplotlib.pyplot as plt\n",
    "plt.style.use('fivethirtyeight')\n",
    "%matplotlib inline\n",
    "\n",
    "# Force display of all values \n",
    "from IPython.core.interactiveshell import InteractiveShell\n",
    "InteractiveShell.ast_node_interactivity = \"all\""
   ]
  },
  {
   "cell_type": "markdown",
   "id": "466ee3a6",
   "metadata": {},
   "source": [
    "# Here is the table of schools with info from the frpm file"
   ]
  },
  {
   "cell_type": "markdown",
   "id": "7f6a4fb6",
   "metadata": {},
   "source": [
    "**PART 1**"
   ]
  },
  {
   "cell_type": "code",
   "execution_count": 36,
   "id": "a23a3418",
   "metadata": {},
   "outputs": [
    {
     "data": {
      "text/html": [
       "<table border=\"1\" class=\"dataframe\">\n",
       "    <thead>\n",
       "        <tr>\n",
       "            <th>Academic Year</th> <th>County Code</th> <th>District Code</th> <th>School Code</th> <th>County Name</th> <th>District Name</th> <th>School Name</th>\n",
       "        </tr>\n",
       "    </thead>\n",
       "    <tbody>\n",
       "        <tr>\n",
       "            <td>2021-2022    </td> <td>1          </td> <td>10017        </td> <td>130419     </td> <td>Alameda    </td> <td>Alameda County Office of Education</td> <td>Alameda County Community               </td>\n",
       "        </tr>\n",
       "        <tr>\n",
       "            <td>2021-2022    </td> <td>1          </td> <td>10017        </td> <td>130401     </td> <td>Alameda    </td> <td>Alameda County Office of Education</td> <td>Alameda County Juvenile Hall/Court     </td>\n",
       "        </tr>\n",
       "        <tr>\n",
       "            <td>2021-2022    </td> <td>1          </td> <td>10017        </td> <td>130625     </td> <td>Alameda    </td> <td>Alameda County Office of Education</td> <td>Alternatives in Action                 </td>\n",
       "        </tr>\n",
       "        <tr>\n",
       "            <td>2021-2022    </td> <td>1          </td> <td>10017        </td> <td>137448     </td> <td>Alameda    </td> <td>Alameda County Office of Education</td> <td>Aurum Preparatory Academy              </td>\n",
       "        </tr>\n",
       "        <tr>\n",
       "            <td>2021-2022    </td> <td>1          </td> <td>10017        </td> <td>123968     </td> <td>Alameda    </td> <td>Alameda County Office of Education</td> <td>Community School for Creative Education</td>\n",
       "        </tr>\n",
       "        <tr>\n",
       "            <td>2021-2022    </td> <td>1          </td> <td>10017        </td> <td>136101     </td> <td>Alameda    </td> <td>Alameda County Office of Education</td> <td>Connecting Waters Charter - East Bay   </td>\n",
       "        </tr>\n",
       "        <tr>\n",
       "            <td>2021-2022    </td> <td>1          </td> <td>10017        </td> <td>6001788    </td> <td>Alameda    </td> <td>Alameda County Office of Education</td> <td>Cox Academy                            </td>\n",
       "        </tr>\n",
       "        <tr>\n",
       "            <td>2021-2022    </td> <td>1          </td> <td>10017        </td> <td>112607     </td> <td>Alameda    </td> <td>Alameda County Office of Education</td> <td>Envision Academy for Arts & Technology </td>\n",
       "        </tr>\n",
       "        <tr>\n",
       "            <td>2021-2022    </td> <td>1          </td> <td>10017        </td> <td>138867     </td> <td>Alameda    </td> <td>Alameda County Office of Education</td> <td>Hayward Collegiate Charter             </td>\n",
       "        </tr>\n",
       "        <tr>\n",
       "            <td>2021-2022    </td> <td>1          </td> <td>10017        </td> <td>6002000    </td> <td>Alameda    </td> <td>Alameda County Office of Education</td> <td>Lazear Charter Academy                 </td>\n",
       "        </tr>\n",
       "    </tbody>\n",
       "</table>\n",
       "<p>... (10548 rows omitted)</p>"
      ],
      "text/plain": [
       "Academic Year | County Code | District Code | School Code | County Name | District Name                      | School Name\n",
       "2021-2022     | 1           | 10017         | 130419      | Alameda     | Alameda County Office of Education | Alameda County Community\n",
       "2021-2022     | 1           | 10017         | 130401      | Alameda     | Alameda County Office of Education | Alameda County Juvenile Hall/Court\n",
       "2021-2022     | 1           | 10017         | 130625      | Alameda     | Alameda County Office of Education | Alternatives in Action\n",
       "2021-2022     | 1           | 10017         | 137448      | Alameda     | Alameda County Office of Education | Aurum Preparatory Academy\n",
       "2021-2022     | 1           | 10017         | 123968      | Alameda     | Alameda County Office of Education | Community School for Creative Education\n",
       "2021-2022     | 1           | 10017         | 136101      | Alameda     | Alameda County Office of Education | Connecting Waters Charter - East Bay\n",
       "2021-2022     | 1           | 10017         | 6001788     | Alameda     | Alameda County Office of Education | Cox Academy\n",
       "2021-2022     | 1           | 10017         | 112607      | Alameda     | Alameda County Office of Education | Envision Academy for Arts & Technology\n",
       "2021-2022     | 1           | 10017         | 138867      | Alameda     | Alameda County Office of Education | Hayward Collegiate Charter\n",
       "2021-2022     | 1           | 10017         | 6002000     | Alameda     | Alameda County Office of Education | Lazear Charter Academy\n",
       "... (10548 rows omitted)"
      ]
     },
     "execution_count": 36,
     "metadata": {},
     "output_type": "execute_result"
    }
   ],
   "source": [
    "#We call the function Table().read_table() on the frpm file name that should be in the same folder as this notebook.\n",
    "#We then assign this to a variable (I chose the variable name schools) so we can use it later on\n",
    "schools = Table().read_table(\"school_data_frpm.csv\")\n",
    "schools"
   ]
  },
  {
   "cell_type": "markdown",
   "id": "a472eca2",
   "metadata": {},
   "source": [
    "**This is the focal schools table downloaded from the google sheet**"
   ]
  },
  {
   "cell_type": "code",
   "execution_count": 37,
   "id": "521d019d",
   "metadata": {},
   "outputs": [
    {
     "data": {
      "text/html": [
       "<table border=\"1\" class=\"dataframe\">\n",
       "    <thead>\n",
       "        <tr>\n",
       "            <th>County</th> <th>County Code</th> <th>District</th> <th>District Code</th> <th>Focal School Name</th> <th>School Code</th> <th>Type of School</th> <th>Start Grade</th> <th>End Grade</th> <th>Enrollment</th>\n",
       "        </tr>\n",
       "    </thead>\n",
       "    <tbody>\n",
       "        <tr>\n",
       "            <td>Sacramento</td> <td>nan        </td> <td>nan     </td> <td>nan          </td> <td>Cordova HS                 </td> <td>nan        </td> <td>High School   </td> <td>9          </td> <td>12       </td> <td>nan       </td>\n",
       "        </tr>\n",
       "        <tr>\n",
       "            <td>Sacramento</td> <td>34         </td> <td>67330   </td> <td>6.05919e+06  </td> <td>Mills MS                   </td> <td>nan        </td> <td>Middle School </td> <td>7          </td> <td>8        </td> <td>1,851     </td>\n",
       "        </tr>\n",
       "        <tr>\n",
       "            <td>Sacramento</td> <td>nan        </td> <td>nan     </td> <td>nan          </td> <td>Geer ES                    </td> <td>nan        </td> <td>Elementary    </td> <td>1          </td> <td>6        </td> <td>414       </td>\n",
       "        </tr>\n",
       "        <tr>\n",
       "            <td>Monterey  </td> <td>nan        </td> <td>nan     </td> <td>nan          </td> <td>Pacific Grove Middle School</td> <td>nan        </td> <td>Middle School </td> <td>6          </td> <td>8        </td> <td>621       </td>\n",
       "        </tr>\n",
       "        <tr>\n",
       "            <td>Monterey  </td> <td>nan        </td> <td>nan     </td> <td>nan          </td> <td>Creekside Elementary School</td> <td>nan        </td> <td>Elementary    </td> <td>PK         </td> <td>4        </td> <td>616       </td>\n",
       "        </tr>\n",
       "        <tr>\n",
       "            <td>Monterey  </td> <td>nan        </td> <td>nan     </td> <td>nan          </td> <td>Chualar Elementary School  </td> <td>nan        </td> <td>Elementary    </td> <td>K          </td> <td>8        </td> <td>305       </td>\n",
       "        </tr>\n",
       "        <tr>\n",
       "            <td>Mono      </td> <td>nan        </td> <td>nan     </td> <td>nan          </td> <td>Mammoth High School        </td> <td>nan        </td> <td>High School   </td> <td>9          </td> <td>12       </td> <td>363       </td>\n",
       "        </tr>\n",
       "        <tr>\n",
       "            <td>Mono      </td> <td>nan        </td> <td>nan     </td> <td>nan          </td> <td>Mammoth Middle School      </td> <td>nan        </td> <td>Middle School </td> <td>6          </td> <td>8        </td> <td>243       </td>\n",
       "        </tr>\n",
       "        <tr>\n",
       "            <td>Mono      </td> <td>nan        </td> <td>nan     </td> <td>nan          </td> <td>Coleville High School      </td> <td>nan        </td> <td>High School   </td> <td>9          </td> <td>12       </td> <td>72        </td>\n",
       "        </tr>\n",
       "        <tr>\n",
       "            <td>Mono      </td> <td>nan        </td> <td>nan     </td> <td>nan          </td> <td>Lee Vining High School     </td> <td>nan        </td> <td>High School   </td> <td>9          </td> <td>12       </td> <td>49        </td>\n",
       "        </tr>\n",
       "    </tbody>\n",
       "</table>\n",
       "<p>... (96 rows omitted)</p>"
      ],
      "text/plain": [
       "County     | County Code | District | District Code | Focal School Name           | School Code | Type of School | Start Grade | End Grade | Enrollment\n",
       "Sacramento | nan         | nan      | nan           | Cordova HS                  | nan         | High School    | 9           | 12        | nan\n",
       "Sacramento | 34          | 67330    | 6.05919e+06   | Mills MS                    | nan         | Middle School  | 7           | 8         | 1,851\n",
       "Sacramento | nan         | nan      | nan           | Geer ES                     | nan         | Elementary     | 1           | 6         | 414\n",
       "Monterey   | nan         | nan      | nan           | Pacific Grove Middle School | nan         | Middle School  | 6           | 8         | 621\n",
       "Monterey   | nan         | nan      | nan           | Creekside Elementary School | nan         | Elementary     | PK          | 4         | 616\n",
       "Monterey   | nan         | nan      | nan           | Chualar Elementary School   | nan         | Elementary     | K           | 8         | 305\n",
       "Mono       | nan         | nan      | nan           | Mammoth High School         | nan         | High School    | 9           | 12        | 363\n",
       "Mono       | nan         | nan      | nan           | Mammoth Middle School       | nan         | Middle School  | 6           | 8         | 243\n",
       "Mono       | nan         | nan      | nan           | Coleville High School       | nan         | High School    | 9           | 12        | 72\n",
       "Mono       | nan         | nan      | nan           | Lee Vining High School      | nan         | High School    | 9           | 12        | 49\n",
       "... (96 rows omitted)"
      ]
     },
     "execution_count": 37,
     "metadata": {},
     "output_type": "execute_result"
    }
   ],
   "source": [
    "#Assign our focal school data to a variable as well by calling Table.read_table(\"file name of focal school data\")\n",
    "focal_schools = Table.read_table('school_selection')\n",
    "focal_schools"
   ]
  },
  {
   "cell_type": "markdown",
   "id": "cc3d3000",
   "metadata": {},
   "source": [
    "**PART 2: Selecting the School Names from the focal schools table**"
   ]
  },
  {
   "cell_type": "code",
   "execution_count": 38,
   "id": "ee179a8d",
   "metadata": {},
   "outputs": [
    {
     "data": {
      "text/plain": [
       "106"
      ]
     },
     "execution_count": 38,
     "metadata": {},
     "output_type": "execute_result"
    },
    {
     "data": {
      "text/html": [
       "<table border=\"1\" class=\"dataframe\">\n",
       "    <thead>\n",
       "        <tr>\n",
       "            <th>Focal School Name</th>\n",
       "        </tr>\n",
       "    </thead>\n",
       "    <tbody>\n",
       "        <tr>\n",
       "            <td>Cordova HS                 </td>\n",
       "        </tr>\n",
       "        <tr>\n",
       "            <td>Mills MS                   </td>\n",
       "        </tr>\n",
       "        <tr>\n",
       "            <td>Geer ES                    </td>\n",
       "        </tr>\n",
       "        <tr>\n",
       "            <td>Pacific Grove Middle School</td>\n",
       "        </tr>\n",
       "        <tr>\n",
       "            <td>Creekside Elementary School</td>\n",
       "        </tr>\n",
       "        <tr>\n",
       "            <td>Chualar Elementary School  </td>\n",
       "        </tr>\n",
       "        <tr>\n",
       "            <td>Mammoth High School        </td>\n",
       "        </tr>\n",
       "        <tr>\n",
       "            <td>Mammoth Middle School      </td>\n",
       "        </tr>\n",
       "        <tr>\n",
       "            <td>Coleville High School      </td>\n",
       "        </tr>\n",
       "        <tr>\n",
       "            <td>Lee Vining High School     </td>\n",
       "        </tr>\n",
       "    </tbody>\n",
       "</table>\n",
       "<p>... (96 rows omitted)</p>"
      ],
      "text/plain": [
       "Focal School Name\n",
       "Cordova HS\n",
       "Mills MS\n",
       "Geer ES\n",
       "Pacific Grove Middle School\n",
       "Creekside Elementary School\n",
       "Chualar Elementary School\n",
       "Mammoth High School\n",
       "Mammoth Middle School\n",
       "Coleville High School\n",
       "Lee Vining High School\n",
       "... (96 rows omitted)"
      ]
     },
     "execution_count": 38,
     "metadata": {},
     "output_type": "execute_result"
    }
   ],
   "source": [
    "#Before we combine, we want to get a table of just the focal school names. We select just the name portion of the \n",
    "# focal_schools table using .select. We then found the number of rows using .num_rows (you don't need to do this)\n",
    "#NOTE: WHILE DOING THIS STEP WE DID NOT YET HAVE THE SCHOOL CODE. IF THE SCHOOL CODE IS AVALIABLE FOR THE FOCAL SCHOOLS\n",
    "# USE THAT INSTEAD OF THE SCHOOL NAME. In that case you would use the line:\n",
    "# focal_school_codes = focal_schools.select(\"School Code\")\n",
    "focal_school_names = focal_schools.select(\"Focal School Name\")\n",
    "focal_schools.select(\"Focal School Name\").num_rows\n",
    "focal_school_names"
   ]
  },
  {
   "cell_type": "markdown",
   "id": "a187038a",
   "metadata": {},
   "source": [
    "**PART 3: Combining the Names from the focal school table with the rest of the data in the frpm table**\n",
    "We only want columns with variables we do not already have for the school. To do this, we first make an array with all \n",
    "the different variables we have so far and each time we add a new table to data, we drop these columns using tbl.drop"
   ]
  },
  {
   "cell_type": "code",
   "execution_count": 39,
   "id": "84c3bc76",
   "metadata": {},
   "outputs": [],
   "source": [
    "variables = make_array(\"Academic Year\", \"County Code\", \"District Code\", \"School Name\", \"District Name\", \"County Name\")"
   ]
  },
  {
   "cell_type": "code",
   "execution_count": 40,
   "id": "84c3ce19",
   "metadata": {
    "scrolled": true
   },
   "outputs": [
    {
     "data": {
      "text/html": [
       "<table border=\"1\" class=\"dataframe\">\n",
       "    <thead>\n",
       "        <tr>\n",
       "            <th>Focal School Name</th> <th>Academic Year</th> <th>County Code</th> <th>District Code</th> <th>School Code</th> <th>County Name</th> <th>District Name</th>\n",
       "        </tr>\n",
       "    </thead>\n",
       "    <tbody>\n",
       "        <tr>\n",
       "            <td>Anna Yates Elementary        </td> <td>2021-2022    </td> <td>1          </td> <td>61168        </td> <td>6090492    </td> <td>Alameda    </td> <td>Emery Unified                </td>\n",
       "        </tr>\n",
       "        <tr>\n",
       "            <td>Colfax Elementary            </td> <td>2021-2022    </td> <td>31         </td> <td>66795        </td> <td>6031066    </td> <td>Placer     </td> <td>Colfax Elementary            </td>\n",
       "        </tr>\n",
       "        <tr>\n",
       "            <td>Emery Secondary              </td> <td>2021-2022    </td> <td>1          </td> <td>61168        </td> <td>132746     </td> <td>Alameda    </td> <td>Emery Unified                </td>\n",
       "        </tr>\n",
       "        <tr>\n",
       "            <td>Green Acres Elementary       </td> <td>2021-2022    </td> <td>44         </td> <td>69765        </td> <td>6049597    </td> <td>Santa Cruz </td> <td>Live Oak Elementary          </td>\n",
       "        </tr>\n",
       "        <tr>\n",
       "            <td>Kirkwood Elementary          </td> <td>2021-2022    </td> <td>52         </td> <td>71555        </td> <td>6053540    </td> <td>Tehama     </td> <td>Kirkwood Elementary          </td>\n",
       "        </tr>\n",
       "        <tr>\n",
       "            <td>Mesa Verde Middle            </td> <td>2021-2022    </td> <td>37         </td> <td>68296        </td> <td>6111306    </td> <td>San Diego  </td> <td>Poway Unified                </td>\n",
       "        </tr>\n",
       "        <tr>\n",
       "            <td>Mesa Verde Middle            </td> <td>2021-2022    </td> <td>56         </td> <td>73940        </td> <td>6112189    </td> <td>Ventura    </td> <td>Moorpark Unified             </td>\n",
       "        </tr>\n",
       "        <tr>\n",
       "            <td>Reeds Creek Elementary       </td> <td>2021-2022    </td> <td>52         </td> <td>71647        </td> <td>6053664    </td> <td>Tehama     </td> <td>Reeds Creek Elementary       </td>\n",
       "        </tr>\n",
       "        <tr>\n",
       "            <td>Richfield Elementary         </td> <td>2021-2022    </td> <td>52         </td> <td>71654        </td> <td>6053672    </td> <td>Tehama     </td> <td>Richfield Elementary         </td>\n",
       "        </tr>\n",
       "        <tr>\n",
       "            <td>Santa Cruz Gardens Elementary</td> <td>2021-2022    </td> <td>44         </td> <td>69849        </td> <td>6049977    </td> <td>Santa Cruz </td> <td>Soquel Union Elementary      </td>\n",
       "        </tr>\n",
       "        <tr>\n",
       "            <td>Thompson Peak Charter        </td> <td>2021-2022    </td> <td>18         </td> <td>64196        </td> <td>135756     </td> <td>Lassen     </td> <td>Susanville Elementary        </td>\n",
       "        </tr>\n",
       "        <tr>\n",
       "            <td>Weimar Hills                 </td> <td>2021-2022    </td> <td>31         </td> <td>66886        </td> <td>6031199    </td> <td>Placer     </td> <td>Placer Hills Union Elementary</td>\n",
       "        </tr>\n",
       "        <tr>\n",
       "            <td>Willows Intermediate         </td> <td>2021-2022    </td> <td>11         </td> <td>62661        </td> <td>6007611    </td> <td>Glenn      </td> <td>Willows Unified              </td>\n",
       "        </tr>\n",
       "    </tbody>\n",
       "</table>"
      ],
      "text/plain": [
       "<IPython.core.display.HTML object>"
      ]
     },
     "metadata": {},
     "output_type": "display_data"
    }
   ],
   "source": [
    "#We take the 2 columns that are the same between 2 tables, focal_schools and schools. We then use .join on those 2 \n",
    "#tables combine the data into one big table. Notation is: table_a(\"tableA column name\", tableB, \"tableB column name\")\n",
    "#Remember, in this example we are using school name, use school code if avaliable\n",
    "combined = focal_school_names.join(\"Focal School Name\", schools, \"School Name\")\n",
    "combined.show()"
   ]
  },
  {
   "cell_type": "markdown",
   "id": "1ef94a1f",
   "metadata": {},
   "source": [
    "Note: Everytime you add a new table, get the columns and assign that to variables. "
   ]
  },
  {
   "cell_type": "markdown",
   "id": "f041b584",
   "metadata": {},
   "source": [
    "**PART 4: Using the UPC File, combining data from other spreadsheets will look like this**\n",
    "I am using the UPC File as an example. We will read the table in and assign it to a variable. Then we will join the data with the focal schools data we have. We use .drop to get rid of redundant varaibles"
   ]
  },
  {
   "cell_type": "code",
   "execution_count": 41,
   "id": "e82b5060",
   "metadata": {},
   "outputs": [
    {
     "name": "stderr",
     "output_type": "stream",
     "text": [
      "/opt/conda/lib/python3.9/site-packages/datascience/tables.py:1252: FutureWarning: elementwise comparison failed; returning scalar instead, but in the future will perform elementwise comparison\n",
      "  if i not in exclude and c not in exclude])\n"
     ]
    },
    {
     "data": {
      "text/html": [
       "<table border=\"1\" class=\"dataframe\">\n",
       "    <thead>\n",
       "        <tr>\n",
       "            <th>School Code</th> <th>District Type</th> <th>School Type</th> <th>Educational \n",
       "Option Type</th> <th>NSLP \n",
       "Provision \n",
       "Status</th> <th>Charter \n",
       "School \n",
       "(Y/N)</th> <th>Charter Number</th> <th>Charter Funding Type</th> <th>IRC</th> <th>Low Grade</th> <th>High Grade</th> <th>Total \n",
       "Enrollment\n",
       "(Grades 9-12)</th> <th>CALPADS Unduplicated \n",
       "Pupil Count\n",
       "(CUPC)\n",
       "(Grades 9-12)</th> <th>CALPADS Unduplicated Pupil Percentage (CUPP)\n",
       "(Grades 9-12)</th> <th>CUPP \n",
       "75% or more\n",
       "(Grades 9-12)\n",
       "(Y/N)</th> <th>CALPADS Fall 1 \n",
       "Certification Status \n",
       "(Y/N)</th>\n",
       "        </tr>\n",
       "    </thead>\n",
       "    <tbody>\n",
       "        <tr>\n",
       "            <td>6115679    </td> <td>Unified School District         </td> <td>Elementary Schools (Public)       </td> <td>Traditional             </td> <td>Not Participating      </td> <td>No                    </td> <td>nan           </td> <td>nan                 </td> <td>N   </td> <td>K        </td> <td>4         </td> <td>1                              </td> <td>0                                                     </td> <td>0.00%                                                     </td> <td>N                                    </td> <td>Y                                          </td>\n",
       "        </tr>\n",
       "        <tr>\n",
       "            <td>1          </td> <td>Unified School District         </td> <td>nan                               </td> <td>nan                     </td> <td>nan                    </td> <td>nan                   </td> <td>nan           </td> <td>nan                 </td> <td>nan </td> <td>nan      </td> <td>nan       </td> <td>1                              </td> <td>0                                                     </td> <td>0.00%                                                     </td> <td>N                                    </td> <td>Y                                          </td>\n",
       "        </tr>\n",
       "        <tr>\n",
       "            <td>1          </td> <td>Unified School District         </td> <td>nan                               </td> <td>nan                     </td> <td>nan                    </td> <td>nan                   </td> <td>nan           </td> <td>nan                 </td> <td>nan </td> <td>nan      </td> <td>nan       </td> <td>1                              </td> <td>0                                                     </td> <td>0.00%                                                     </td> <td>N                                    </td> <td>Y                                          </td>\n",
       "        </tr>\n",
       "        <tr>\n",
       "            <td>0          </td> <td>Unified School District         </td> <td>nan                               </td> <td>nan                     </td> <td>nan                    </td> <td>nan                   </td> <td>nan           </td> <td>nan                 </td> <td>nan </td> <td>K        </td> <td>12        </td> <td>17                             </td> <td>0                                                     </td> <td>0.00%                                                     </td> <td>N                                    </td> <td>Y                                          </td>\n",
       "        </tr>\n",
       "        <tr>\n",
       "            <td>0          </td> <td>Unified School District         </td> <td>nan                               </td> <td>nan                     </td> <td>nan                    </td> <td>nan                   </td> <td>nan           </td> <td>nan                 </td> <td>nan </td> <td>K        </td> <td>Adult     </td> <td>1                              </td> <td>0                                                     </td> <td>0.00%                                                     </td> <td>N                                    </td> <td>Y                                          </td>\n",
       "        </tr>\n",
       "        <tr>\n",
       "            <td>0          </td> <td>High School District            </td> <td>nan                               </td> <td>nan                     </td> <td>nan                    </td> <td>nan                   </td> <td>nan           </td> <td>nan                 </td> <td>nan </td> <td>7        </td> <td>12        </td> <td>6                              </td> <td>0                                                     </td> <td>0.00%                                                     </td> <td>N                                    </td> <td>Y                                          </td>\n",
       "        </tr>\n",
       "        <tr>\n",
       "            <td>1          </td> <td>Unified School District         </td> <td>nan                               </td> <td>nan                     </td> <td>nan                    </td> <td>nan                   </td> <td>nan           </td> <td>nan                 </td> <td>nan </td> <td>nan      </td> <td>nan       </td> <td>5                              </td> <td>0                                                     </td> <td>0.00%                                                     </td> <td>N                                    </td> <td>Y                                          </td>\n",
       "        </tr>\n",
       "        <tr>\n",
       "            <td>1          </td> <td>Unified School District         </td> <td>nan                               </td> <td>nan                     </td> <td>nan                    </td> <td>nan                   </td> <td>nan           </td> <td>nan                 </td> <td>nan </td> <td>nan      </td> <td>nan       </td> <td>4                              </td> <td>0                                                     </td> <td>0.00%                                                     </td> <td>N                                    </td> <td>Y                                          </td>\n",
       "        </tr>\n",
       "        <tr>\n",
       "            <td>1          </td> <td>Unified School District         </td> <td>nan                               </td> <td>nan                     </td> <td>nan                    </td> <td>nan                   </td> <td>nan           </td> <td>nan                 </td> <td>nan </td> <td>nan      </td> <td>nan       </td> <td>5                              </td> <td>0                                                     </td> <td>0.00%                                                     </td> <td>N                                    </td> <td>Y                                          </td>\n",
       "        </tr>\n",
       "        <tr>\n",
       "            <td>6069934    </td> <td>County Office of Education (COE)</td> <td>Special Education Schools (Public)</td> <td>Special Education School</td> <td>nan                    </td> <td>No                    </td> <td>nan           </td> <td>nan                 </td> <td>N   </td> <td>K        </td> <td>12        </td> <td>4                              </td> <td>0                                                     </td> <td>0.00%                                                     </td> <td>N                                    </td> <td>Y                                          </td>\n",
       "        </tr>\n",
       "    </tbody>\n",
       "</table>\n",
       "<p>... (3005 rows omitted)</p>"
      ],
      "text/plain": [
       "School Code | District Type                    | School Type                        | Educational \n",
       "Option Type | NSLP \n",
       "Provision \n",
       "Status | Charter \n",
       "School \n",
       "(Y/N) | Charter Number | Charter Funding Type | IRC  | Low Grade | High Grade | Total \n",
       "Enrollment\n",
       "(Grades 9-12) | CALPADS Unduplicated \n",
       "Pupil Count\n",
       "(CUPC)\n",
       "(Grades 9-12) | CALPADS Unduplicated Pupil Percentage (CUPP)\n",
       "(Grades 9-12) | CUPP \n",
       "75% or more\n",
       "(Grades 9-12)\n",
       "(Y/N) | CALPADS Fall 1 \n",
       "Certification Status \n",
       "(Y/N)\n",
       "6115679     | Unified School District          | Elementary Schools (Public)        | Traditional              | Not Participating       | No                     | nan            | nan                  | N    | K         | 4          | 1                               | 0                                                      | 0.00%                                                      | N                                     | Y\n",
       "1           | Unified School District          | nan                                | nan                      | nan                     | nan                    | nan            | nan                  | nan  | nan       | nan        | 1                               | 0                                                      | 0.00%                                                      | N                                     | Y\n",
       "1           | Unified School District          | nan                                | nan                      | nan                     | nan                    | nan            | nan                  | nan  | nan       | nan        | 1                               | 0                                                      | 0.00%                                                      | N                                     | Y\n",
       "0           | Unified School District          | nan                                | nan                      | nan                     | nan                    | nan            | nan                  | nan  | K         | 12         | 17                              | 0                                                      | 0.00%                                                      | N                                     | Y\n",
       "0           | Unified School District          | nan                                | nan                      | nan                     | nan                    | nan            | nan                  | nan  | K         | Adult      | 1                               | 0                                                      | 0.00%                                                      | N                                     | Y\n",
       "0           | High School District             | nan                                | nan                      | nan                     | nan                    | nan            | nan                  | nan  | 7         | 12         | 6                               | 0                                                      | 0.00%                                                      | N                                     | Y\n",
       "1           | Unified School District          | nan                                | nan                      | nan                     | nan                    | nan            | nan                  | nan  | nan       | nan        | 5                               | 0                                                      | 0.00%                                                      | N                                     | Y\n",
       "1           | Unified School District          | nan                                | nan                      | nan                     | nan                    | nan            | nan                  | nan  | nan       | nan        | 4                               | 0                                                      | 0.00%                                                      | N                                     | Y\n",
       "1           | Unified School District          | nan                                | nan                      | nan                     | nan                    | nan            | nan                  | nan  | nan       | nan        | 5                               | 0                                                      | 0.00%                                                      | N                                     | Y\n",
       "6069934     | County Office of Education (COE) | Special Education Schools (Public) | Special Education School | nan                     | No                     | nan            | nan                  | N    | K         | 12         | 4                               | 0                                                      | 0.00%                                                      | N                                     | Y\n",
       "... (3005 rows omitted)"
      ]
     },
     "execution_count": 41,
     "metadata": {},
     "output_type": "execute_result"
    }
   ],
   "source": [
    "UPC = Table.read_table('UPC_data.csv').drop(variables)\n",
    "UPC"
   ]
  },
  {
   "cell_type": "code",
   "execution_count": 42,
   "id": "d811b365",
   "metadata": {
    "scrolled": true
   },
   "outputs": [
    {
     "data": {
      "text/html": [
       "<table border=\"1\" class=\"dataframe\">\n",
       "    <thead>\n",
       "        <tr>\n",
       "            <th>School Code</th> <th>Focal School Name</th> <th>Academic Year</th> <th>County Code</th> <th>District Code</th> <th>County Name</th> <th>District Name</th> <th>District Type</th> <th>School Type</th> <th>Educational \n",
       "Option Type</th> <th>NSLP \n",
       "Provision \n",
       "Status</th> <th>Charter \n",
       "School \n",
       "(Y/N)</th> <th>Charter Number</th> <th>Charter Funding Type</th> <th>IRC</th> <th>Low Grade</th> <th>High Grade</th> <th>Total \n",
       "Enrollment\n",
       "(Grades 9-12)</th> <th>CALPADS Unduplicated \n",
       "Pupil Count\n",
       "(CUPC)\n",
       "(Grades 9-12)</th> <th>CALPADS Unduplicated Pupil Percentage (CUPP)\n",
       "(Grades 9-12)</th> <th>CUPP \n",
       "75% or more\n",
       "(Grades 9-12)\n",
       "(Y/N)</th> <th>CALPADS Fall 1 \n",
       "Certification Status \n",
       "(Y/N)</th>\n",
       "        </tr>\n",
       "    </thead>\n",
       "    <tbody>\n",
       "        <tr>\n",
       "            <td>132746     </td> <td>Emery Secondary      </td> <td>2021-2022    </td> <td>1          </td> <td>61168        </td> <td>Alameda    </td> <td>Emery Unified        </td> <td>Unified School District   </td> <td>High Schools (Public)</td> <td>Traditional             </td> <td>nan                    </td> <td>No                    </td> <td>nan           </td> <td>nan                 </td> <td>N   </td> <td>9        </td> <td>12        </td> <td>176                            </td> <td>154                                                   </td> <td>87.50%                                                    </td> <td>Y                                    </td> <td>Y                                          </td>\n",
       "        </tr>\n",
       "        <tr>\n",
       "            <td>135756     </td> <td>Thompson Peak Charter</td> <td>2021-2022    </td> <td>18         </td> <td>64196        </td> <td>Lassen     </td> <td>Susanville Elementary</td> <td>Elementary School District</td> <td>K-12 Schools (Public)</td> <td>Traditional             </td> <td>nan                    </td> <td>Yes                   </td> <td>2066          </td> <td>Directly funded     </td> <td>Y   </td> <td>K        </td> <td>12        </td> <td>59                             </td> <td>34                                                    </td> <td>57.63%                                                    </td> <td>N                                    </td> <td>Y                                          </td>\n",
       "        </tr>\n",
       "    </tbody>\n",
       "</table>"
      ],
      "text/plain": [
       "School Code | Focal School Name     | Academic Year | County Code | District Code | County Name | District Name         | District Type              | School Type           | Educational \n",
       "Option Type | NSLP \n",
       "Provision \n",
       "Status | Charter \n",
       "School \n",
       "(Y/N) | Charter Number | Charter Funding Type | IRC  | Low Grade | High Grade | Total \n",
       "Enrollment\n",
       "(Grades 9-12) | CALPADS Unduplicated \n",
       "Pupil Count\n",
       "(CUPC)\n",
       "(Grades 9-12) | CALPADS Unduplicated Pupil Percentage (CUPP)\n",
       "(Grades 9-12) | CUPP \n",
       "75% or more\n",
       "(Grades 9-12)\n",
       "(Y/N) | CALPADS Fall 1 \n",
       "Certification Status \n",
       "(Y/N)\n",
       "132746      | Emery Secondary       | 2021-2022     | 1           | 61168         | Alameda     | Emery Unified         | Unified School District    | High Schools (Public) | Traditional              | nan                     | No                     | nan            | nan                  | N    | 9         | 12         | 176                             | 154                                                    | 87.50%                                                     | Y                                     | Y\n",
       "135756      | Thompson Peak Charter | 2021-2022     | 18          | 64196         | Lassen      | Susanville Elementary | Elementary School District | K-12 Schools (Public) | Traditional              | nan                     | Yes                    | 2066           | Directly funded      | Y    | K         | 12         | 59                              | 34                                                     | 57.63%                                                     | N                                     | Y"
      ]
     },
     "execution_count": 42,
     "metadata": {},
     "output_type": "execute_result"
    }
   ],
   "source": [
    "#We use the school code variable to join the 2 datasets together. \n",
    "combined_UPC = combined.join(\"School Code\", UPC, \"School Code\")\n",
    "combined_UPC"
   ]
  },
  {
   "cell_type": "code",
   "execution_count": 43,
   "id": "8c18a5d2",
   "metadata": {},
   "outputs": [],
   "source": [
    "#Now since we have new variables added, we add this to variables by getting all the column names (.lables) and assigning\n",
    "#it to variables \n",
    "variables = make_array(combined_UPC.labels)"
   ]
  },
  {
   "cell_type": "code",
   "execution_count": null,
   "id": "c223bf40",
   "metadata": {},
   "outputs": [],
   "source": []
  },
  {
   "cell_type": "code",
   "execution_count": null,
   "id": "01c1804e",
   "metadata": {},
   "outputs": [],
   "source": []
  },
  {
   "cell_type": "code",
   "execution_count": null,
   "id": "789576bb",
   "metadata": {},
   "outputs": [],
   "source": []
  },
  {
   "cell_type": "code",
   "execution_count": null,
   "id": "66805c60",
   "metadata": {},
   "outputs": [],
   "source": []
  }
 ],
 "metadata": {
  "kernelspec": {
   "display_name": "Python 3 (ipykernel)",
   "language": "python",
   "name": "python3"
  },
  "language_info": {
   "codemirror_mode": {
    "name": "ipython",
    "version": 3
   },
   "file_extension": ".py",
   "mimetype": "text/x-python",
   "name": "python",
   "nbconvert_exporter": "python",
   "pygments_lexer": "ipython3",
   "version": "3.9.6"
  },
  "toc": {
   "base_numbering": 1,
   "nav_menu": {},
   "number_sections": true,
   "sideBar": true,
   "skip_h1_title": false,
   "title_cell": "Table of Contents",
   "title_sidebar": "Contents",
   "toc_cell": false,
   "toc_position": {},
   "toc_section_display": true,
   "toc_window_display": false
  }
 },
 "nbformat": 4,
 "nbformat_minor": 5
}
